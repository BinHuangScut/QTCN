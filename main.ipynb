{
 "cells": [
  {
   "cell_type": "code",
   "execution_count": null,
   "id": "50378b8f-c982-4a79-af41-c393516b60fa",
   "metadata": {},
   "outputs": [],
   "source": [
    "import numpy as np\n",
    "import pandas as pd\n",
    "import torch\n",
    "from options import Options\n",
    "from attention_tcn import Attention_TCN_Model\n",
    "\n",
    "from torch.utils.data import Dataset\n",
    "from torch.utils.data import DataLoader\n",
    "from torch.utils.data import TensorDataset\n",
    "\n",
    "import time\n",
    "from utils import generate_data, pinball_loss, get_seperate_results, plot"
   ]
  },
  {
   "cell_type": "code",
   "execution_count": null,
   "id": "f7a8e29a-5f56-4444-a169-a71ef40bb86c",
   "metadata": {},
   "outputs": [],
   "source": [
    "all_data = pd.read_csv('Wavelet_data.csv')\n",
    "opt = Options()\n",
    "\n",
    "electricity = torch.tensor(all_data['KW']).type(torch.float32).unsqueeze(0)\n",
    "# cold = torch.tensor\n",
    "cold = torch.tensor(all_data['CHWTON']).type(torch.float32).unsqueeze(0)\n",
    "heat = torch.tensor(all_data['HTmmBTU']).type(torch.float32).unsqueeze(0)\n",
    "DPT = torch.tensor(all_data['HourlyDewPointTemperature']).type(torch.float32).unsqueeze(0)\n",
    "DBT = torch.tensor(all_data['HourlyDryBulbTemperature']).type(torch.float32).unsqueeze(0)\n",
    "WBT = torch.tensor(all_data['HourlyWetBulbTemperature']).type(torch.float32).unsqueeze(0)\n",
    "RH = torch.tensor(all_data['HourlyRelativeHumidity']).type(torch.float32).unsqueeze(0)\n",
    "SP = torch.tensor(all_data['HourlyStationPressure']).type(torch.float32).unsqueeze(0)\n",
    "\n",
    "three_loads = torch.cat((electricity, cold, heat), 0)\n",
    "weather_data = torch.cat((DPT,DBT,WBT,RH,SP),0)\n",
    "three_loads_hour, three_loads_y = generate_data(three_loads, opt.lagged_hour)\n",
    "weather_hour, weather_y = generate_data(weather_data, opt.lagged_hour)\n",
    "\n",
    "three_loads_hour_train = three_loads_hour[:int(opt.train_rate*three_loads_hour.size(0)), :, :]\n",
    "three_loads_hour_test = three_loads_hour[int(opt.train_rate*three_loads_hour.size(0)):, :, :]\n",
    "\n",
    "weather_hour_train = weather_hour[:int(opt.train_rate*weather_hour.size(0)), :, :]\n",
    "weather_hour_test = weather_hour[int(opt.train_rate*weather_hour.size(0)):, :, :]\n",
    "\n",
    "three_loads_y_train = three_loads_y[:int(opt.train_rate*three_loads_hour.size(0)), :]\n",
    "three_loads_y_test =  three_loads_y[int(opt.train_rate*three_loads_hour.size(0)):, :]\n",
    "\n",
    "train_dataset = TensorDataset(three_loads_hour_train.to(opt.device), weather_hour_train.to(opt.device), three_loads_y_train.to(opt.device))\n",
    "train_dataloader = DataLoader(train_dataset, opt.batch, shuffle=True)"
   ]
  },
  {
   "cell_type": "code",
   "execution_count": null,
   "id": "18612e2e-291b-4554-a894-86da787e83c1",
   "metadata": {},
   "outputs": [],
   "source": [
    "att_TCN_Model = Attention_TCN_Model(opt.attention_input_size, opt.attention_embed_dim, opt.num_heads, opt.tcn_hidden_size, opt.num_loads, opt.num_blocks, opt.num_weather).to(opt.device)\n",
    "optimizer = torch.optim.Adam(att_TCN_Model.parameters(), lr = opt.learning_rate)\n",
    "\n",
    "\n",
    "start_time = time.time()\n",
    "train_loss = []\n",
    "for i in range(opt.n_epochs):\n",
    "    i += 1\n",
    "    optimizer.zero_grad()\n",
    "    loss_list_train = []\n",
    "    for batch_load, batch_weather, batch_labels in train_dataloader:\n",
    "        batch_quantile_loss = []\n",
    "        outputs = att_TCN_Model(batch_load, batch_weather)\n",
    "        for quantile in opt.quantiles:\n",
    "            batch_quantile_loss.append(pinball_loss(quantile, outputs[opt.quantiles.index(quantile)], batch_labels))\n",
    "        batch_loss = sum(batch_quantile_loss)/len(batch_quantile_loss)\n",
    "        loss_list_train.append(batch_loss)\n",
    "        \n",
    "    loss = sum(loss_list_train)/len(loss_list_train)\n",
    "    train_loss.append(loss)\n",
    "    \n",
    "    loss.backward()\n",
    "    optimizer.step()\n",
    "    # torch.save(att_TCN_Model, 'train_models\\model_epoch_{}'.format(i))\n",
    "    \n",
    "    if i%10 == 0:\n",
    "        print('epoch: {}, train_loss: {}'.format(i, loss.item()))\n",
    "    \n",
    "end_time = time.time()\n",
    "print('time cost', (end_time-start_time)/60,'min')\n",
    "torch.save(att_TCN_Model, 'test')"
   ]
  },
  {
   "cell_type": "code",
   "execution_count": null,
   "id": "90f77b95-3135-4107-b9f2-c92115660892",
   "metadata": {},
   "outputs": [],
   "source": [
    "# att_TCN_Model = torch.load('test')\n",
    "att_TCN_Model.eval()\n",
    "three_loads_hour_test = three_loads_hour_test.to(opt.device)\n",
    "weather_hour_test = weather_hour_test.to(opt.device)\n",
    "att_TCN_Model_output = att_TCN_Model(three_loads_hour_test, weather_hour_test)\n",
    "\n",
    "electricity_results, cold_results, heat_results = get_seperate_results(att_TCN_Model_output, three_loads_y_test, opt.quantiles)\n",
    "\n",
    "electricity_results = electricity_results.sort(0, False)[0]\n",
    "cold_results = cold_results.sort(0, False)[0]\n",
    "heat_results = heat_results.sort(0, False)[0]\n",
    "\n",
    "plot(three_loads_y_test, forecased_result=electricity_results, num_result=200, start=220, flag=0)"
   ]
  }
 ],
 "metadata": {
  "kernelspec": {
   "display_name": "Python 3 (ipykernel)",
   "language": "python",
   "name": "python3"
  },
  "language_info": {
   "codemirror_mode": {
    "name": "ipython",
    "version": 3
   },
   "file_extension": ".py",
   "mimetype": "text/x-python",
   "name": "python",
   "nbconvert_exporter": "python",
   "pygments_lexer": "ipython3",
   "version": "3.10.11"
  }
 },
 "nbformat": 4,
 "nbformat_minor": 5
}
